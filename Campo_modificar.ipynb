{
 "cells": [
  {
   "cell_type": "code",
   "execution_count": 12,
   "metadata": {},
   "outputs": [],
   "source": [
    "#Ejemplo de modificación de campo\n",
    "\n",
    "import win32com.client as win32ComClient\n",
    "\n",
    "if __name__ == \"__main__\":\n",
    "    try:\n",
    "        dbName = \"C:\\\\Users\\\\Intel\\\\Documents\\\\Mis documentos IDEA\\\\Samples\\\\Ejemplo-Detalle de ventas.IMD\"\n",
    "        idea = win32ComClient.Dispatch(dispatch=\"Idea.IdeaClient\")\n",
    "        db = idea.OpenDatabase(dbName)\n",
    "        task = db.TableManagement()\n",
    "        ThisTable = db.TableDef()\n",
    "        field = ThisTable.Newfield()\n",
    "        field.Name = \"NUM1_\"\n",
    "        field.Description = \"\"\n",
    "        field.Type = \"3\"\n",
    "        field.Equation = \"NUM_FACT +  COD_PROD\"\n",
    "        field.Length = 12\n",
    "        task.ReplaceField(\"NUM1\", field)\n",
    "        task.PerformTask()\n",
    "    finally:\n",
    "        task = None\n",
    "        db = None\n",
    "        idea = None\n",
    "\n",
    "#field.Type = \"0\" para caracter virtual\n",
    "#field.Type = \"1\" para numérico virtual\n",
    "#field.Type = \"2\" para fecha virtual\n",
    "#field.Type = \"3\" para caracter\n",
    "#field.Type = \"4\" para numérico\n",
    "#field.Type = \"5\" para fecha \n",
    "#field.Type = \"6\" para numérico editable\n",
    "#field.Type = \"7\" para caracter editable\n",
    "#field.Type = \"8\" para fecha editable\n",
    "#field.Type = \"9\" para multi-estado\n",
    "#field.Type = \"10\" para booleano\n",
    "#field.Type = \"11\" para hora \n",
    "#field.Type = \"12\" para hora editable\n",
    "#field.Type = \"13\" para hora virtual"
   ]
  }
 ],
 "metadata": {
  "kernelspec": {
   "display_name": "Python 3",
   "language": "python",
   "name": "python3"
  },
  "language_info": {
   "codemirror_mode": {
    "name": "ipython",
    "version": 3
   },
   "file_extension": ".py",
   "mimetype": "text/x-python",
   "name": "python",
   "nbconvert_exporter": "python",
   "pygments_lexer": "ipython3",
   "version": "3.7.6"
  }
 },
 "nbformat": 4,
 "nbformat_minor": 4
}
